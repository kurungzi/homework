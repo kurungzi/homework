{
 "cells": [
  {
   "cell_type": "code",
   "execution_count": 4,
   "metadata": {},
   "outputs": [
    {
     "name": "stdout",
     "output_type": "stream",
     "text": [
      "남은 기회: 3번\n",
      "['_', '_', '_', '_', '_', '_']\n",
      "남은 기회: 2번\n",
      "['k', '_', '_', '_', '_', '_']\n",
      "남은 기회: 2번\n",
      "['k', 'i', '_', '_', '_', '_']\n",
      "남은 기회: 2번\n",
      "['k', 'i', '_', '_', '_', '_']\n",
      "남은 기회: 2번\n",
      "['k', 'i', 't', 't', '_', '_']\n",
      "남은 기회: 2번\n",
      "['k', 'i', 't', 't', 'e', '_']\n",
      "남은 기회: 2번\n",
      "['k', 'i', 't', 't', 'e', 'n']\n",
      "성공!!\n"
     ]
    }
   ],
   "source": [
    "import random\n",
    "\n",
    "eng_words = [\"puppy\", \"kitten\", \"happy\"]\n",
    "\n",
    "answer = random.choice(eng_words)\n",
    "guess_letters = list(\"_\" * len(answer))\n",
    "life = 3\n",
    "game_over = False\n",
    "\n",
    "\n",
    "while not game_over:\n",
    "    print (f\"남은 기회: {life}번\")\n",
    "    user_guess = input(\"한 글자씩 추측해 보세요 >>> \").lower()\n",
    "\n",
    "    if len(user_guess) == 1 and user_guess.isalpha():\n",
    "        for i in range(len(answer)):\n",
    "            if answer[i] == user_guess:\n",
    "                guess_letters[i] = user_guess\n",
    "        print(guess_letters)\n",
    "\n",
    "        if \"_\" not in guess_letters:\n",
    "            game_over = True\n",
    "            print(\"성공!!\")\n",
    "        if user_guess not in answer :\n",
    "            life -= 1\n",
    "            if life == 0 :\n",
    "                game_over = True\n",
    "                print(f\"실패! 정답은 {answer}입니다. \")\n",
    "    else:\n",
    "        print(\"영문 한자씩 입력하세요\")"
   ]
  }
 ],
 "metadata": {
  "kernelspec": {
   "display_name": "Python 3",
   "language": "python",
   "name": "python3"
  },
  "language_info": {
   "codemirror_mode": {
    "name": "ipython",
    "version": 3
   },
   "file_extension": ".py",
   "mimetype": "text/x-python",
   "name": "python",
   "nbconvert_exporter": "python",
   "pygments_lexer": "ipython3",
   "version": "3.9.7"
  }
 },
 "nbformat": 4,
 "nbformat_minor": 2
}
